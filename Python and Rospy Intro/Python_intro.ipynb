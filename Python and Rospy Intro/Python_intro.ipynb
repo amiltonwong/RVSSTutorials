{
 "cells": [
  {
   "cell_type": "markdown",
   "metadata": {},
   "source": [
    "# A Brief Introduction to Python\n"
   ]
  },
  {
   "cell_type": "markdown",
   "metadata": {},
   "source": [
    "The following notes introduce the basics of the Python programming language.\n",
    "\n",
    "**Aditional resources**\n",
    "\n",
    "* Python tutorial: https://docs.python.org/2/tutorial/\n",
    "* Numpy tutorial: http://wiki.scipy.org/Tentative_NumPy_Tutorial\n",
    "* Numpy for Matlab users: http://wiki.scipy.org/NumPy_for_Matlab_Users\n",
    "* Matplotlib: http://matplotlib.org/\n",
    "\n"
   ]
  },
  {
   "cell_type": "markdown",
   "metadata": {},
   "source": [
    "## 0. Hello world!"
   ]
  },
  {
   "cell_type": "markdown",
   "metadata": {},
   "source": [
    "Create a new text file and named <b>helloWorld.py</b> and copy and paste the following code"
   ]
  },
  {
   "cell_type": "code",
   "execution_count": 33,
   "metadata": {
    "collapsed": false
   },
   "outputs": [
    {
     "name": "stdout",
     "output_type": "stream",
     "text": [
      "Hello World from Python!!!\n"
     ]
    }
   ],
   "source": [
    "#!/usr/bin/env python\n",
    "# helloWOrld.py\n",
    "\n",
    "# this is the entry point of your program\n",
    "if __name__ == '__main__':\n",
    "    print('Hello World from Python!!!')"
   ]
  },
  {
   "cell_type": "markdown",
   "metadata": {},
   "source": [
    "To run your file, open a new terminal and type\n",
    "\n",
    "<b>\n",
    "python helloWorld.py\n",
    "</b>"
   ]
  },
  {
   "cell_type": "markdown",
   "metadata": {},
   "source": [
    "## 1. Variables"
   ]
  },
  {
   "cell_type": "markdown",
   "metadata": {},
   "source": [
    "Variable declaration follows the same rules as in Matlab\n",
    "\n",
    "**varID = value**"
   ]
  },
  {
   "cell_type": "code",
   "execution_count": 34,
   "metadata": {
    "collapsed": true
   },
   "outputs": [],
   "source": [
    "i = 1\n",
    "b = True\n",
    "f = 1.0\n",
    "s = 'this is a string'"
   ]
  },
  {
   "cell_type": "markdown",
   "metadata": {},
   "source": [
    "## 2. Functions\n",
    "\n",
    "Function declaration starts with **def** keyword followed by the function name and a list of parameters enclosed in parenthesis"
   ]
  },
  {
   "cell_type": "code",
   "execution_count": 53,
   "metadata": {
    "collapsed": false
   },
   "outputs": [
    {
     "name": "stdout",
     "output_type": "stream",
     "text": [
      "c: 4\n",
      "Help on function add in module __main__:\n",
      "\n",
      "add(a, b)\n",
      "    add two variables and return the result\n",
      "\n"
     ]
    }
   ],
   "source": [
    "# function definition\n",
    "def add(a, b):\n",
    "    \"\"\"add two variables and return the result\"\"\"\n",
    "    return a + b\n",
    "\n",
    "# calling the function\n",
    "c = add(1, 3)\n",
    "print('c: {0}'.format(c))\n",
    "help(add)"
   ]
  },
  {
   "cell_type": "markdown",
   "metadata": {},
   "source": [
    "Parameters can have **default values**"
   ]
  },
  {
   "cell_type": "code",
   "execution_count": 36,
   "metadata": {
    "collapsed": false
   },
   "outputs": [
    {
     "name": "stdout",
     "output_type": "stream",
     "text": [
      "7\n",
      "-1\n"
     ]
    }
   ],
   "source": [
    "def sub(a, b=5):\n",
    "    \"\"\"returns a - b. Parameter b is optional and has default value 5\"\"\"\n",
    "    return a - b\n",
    "\n",
    "print(sub(10, 3))\n",
    "print(sub(4))"
   ]
  },
  {
   "cell_type": "markdown",
   "metadata": {},
   "source": [
    "## 3. Flow control"
   ]
  },
  {
   "cell_type": "markdown",
   "metadata": {},
   "source": [
    "Python provides the basic flow control instructions of any programming language. That is, conditional execution **if-else** and **for** and **while** loops"
   ]
  },
  {
   "cell_type": "markdown",
   "metadata": {},
   "source": [
    "# Indentation!!!"
   ]
  },
  {
   "cell_type": "markdown",
   "metadata": {},
   "source": [
    "In Python there are **no brackets** or **end** keywords to close a block of code that is inside a flow control instruction. You need to **properly indent** your code, as it is the only mechanism to indicate the nesting of instructions.\n",
    "\n",
    "Indentation is achieved by inserting **4 spaces** on the left side of each line. This will help (force) you to write **neat and clear** code."
   ]
  },
  {
   "cell_type": "markdown",
   "metadata": {},
   "source": [
    "### 3.1 If - elif - else"
   ]
  },
  {
   "cell_type": "code",
   "execution_count": 39,
   "metadata": {
    "collapsed": false
   },
   "outputs": [
    {
     "name": "stdout",
     "output_type": "stream",
     "text": [
      "a == 0\n"
     ]
    }
   ],
   "source": [
    "a = 0\n",
    "if a == 0:\n",
    "    print('a == 0')\n",
    "elif a == 1:\n",
    "    print('a == 1')\n",
    "else:\n",
    "    print('a > 1')"
   ]
  },
  {
   "cell_type": "markdown",
   "metadata": {},
   "source": [
    "### 3.2 For loop"
   ]
  },
  {
   "cell_type": "markdown",
   "metadata": {},
   "source": [
    "The **range()** function generates sequential values to be used within a **for** loop."
   ]
  },
  {
   "cell_type": "code",
   "execution_count": 40,
   "metadata": {
    "collapsed": false
   },
   "outputs": [
    {
     "name": "stdout",
     "output_type": "stream",
     "text": [
      "i: 0\n",
      "i: 1\n",
      "i: 2\n",
      "i: 3\n",
      "i: 4\n",
      "i: 5\n",
      "i: 6\n",
      "i: 7\n",
      "i: 8\n",
      "i: 9\n"
     ]
    }
   ],
   "source": [
    "for i in range(10):\n",
    "    print('i: {0}'.format(i))"
   ]
  },
  {
   "cell_type": "markdown",
   "metadata": {},
   "source": [
    "Optionally, **xrange()** can receive as arguments the start and step of the sequence."
   ]
  },
  {
   "cell_type": "code",
   "execution_count": 41,
   "metadata": {
    "collapsed": false
   },
   "outputs": [
    {
     "name": "stdout",
     "output_type": "stream",
     "text": [
      "i\" -10\n",
      "i\" -8\n",
      "i\" -6\n",
      "i\" -4\n",
      "i\" -2\n",
      "i\" 0\n",
      "i\" 2\n",
      "i\" 4\n",
      "i\" 6\n",
      "i\" 8\n"
     ]
    }
   ],
   "source": [
    "for i in range(-10, 10, 2):\n",
    "    print('i\" {0}'.format(i))"
   ]
  },
  {
   "cell_type": "markdown",
   "metadata": {},
   "source": [
    "### 3.3 While loop"
   ]
  },
  {
   "cell_type": "markdown",
   "metadata": {},
   "source": [
    "**while** loops executes the code bellow until the condition controlling the loop turns **False**"
   ]
  },
  {
   "cell_type": "code",
   "execution_count": 42,
   "metadata": {
    "collapsed": false
   },
   "outputs": [
    {
     "name": "stdout",
     "output_type": "stream",
     "text": [
      "i: 0\n",
      "i: 1\n",
      "i: 2\n",
      "i: 3\n",
      "i: 4\n",
      "i: 5\n",
      "i: 6\n",
      "i: 7\n",
      "i: 8\n",
      "i: 9\n"
     ]
    }
   ],
   "source": [
    "i = 0\n",
    "while i < 10:\n",
    "    print('i: {0}'.format(i))\n",
    "    i += 1"
   ]
  },
  {
   "cell_type": "markdown",
   "metadata": {},
   "source": [
    "## 4. Modules"
   ]
  },
  {
   "cell_type": "markdown",
   "metadata": {
    "collapsed": true
   },
   "source": [
    "Python provides modularity in the code through a **package system**. Each Python file in a package is considered as a modudel of that package. Packages are ordinary folders in your computer, but contain a special file named **__init__.py** to indicate the Python interpreter the folder should be regarded as a package. Any Python file in a package can contain variable definitions (global), functions and classes.\n",
    "\n",
    "To import a certain module of a package, we use the **import** keyword"
   ]
  },
  {
   "cell_type": "code",
   "execution_count": 43,
   "metadata": {
    "collapsed": false
   },
   "outputs": [],
   "source": [
    "\n",
    "import numpy as np    # imports Numpy package and gives it the 'np' alias\n",
    "import cv2            # imports OpenCV\n",
    "import rospy          # imports ROS python bindings\n"
   ]
  },
  {
   "cell_type": "markdown",
   "metadata": {},
   "source": [
    "A module is normally formed by several functions and class definitions, here is an example"
   ]
  },
  {
   "cell_type": "code",
   "execution_count": 54,
   "metadata": {
    "collapsed": false
   },
   "outputs": [
    {
     "name": "stdout",
     "output_type": "stream",
     "text": [
      "Juan\n",
      "12345\n",
      "Name is Juan\n"
     ]
    }
   ],
   "source": [
    "import numpy as np\n",
    "\n",
    "def mul(a, b):\n",
    "    return a*b\n",
    "\n",
    "def div(a, b):\n",
    "    return a / b\n",
    "\n",
    "class Person():\n",
    "    ''' This class is for people'''\n",
    "    def __init__(self, name, telephone):\n",
    "        self.name = name\n",
    "        self.telephone = telephone\n",
    "        \n",
    "    def print_name(self):\n",
    "        print('Name is %s' %self.name)\n",
    "\n",
    "\n",
    "if __name__ == '__main__':\n",
    "    me = Person('Juan', '12345')\n",
    "    print(me.name)\n",
    "    print(me.telephone)\n",
    "    me.print_name()"
   ]
  },
  {
   "cell_type": "markdown",
   "metadata": {},
   "source": [
    "## 5. SciPy + Numpy + Matplotlib"
   ]
  },
  {
   "cell_type": "markdown",
   "metadata": {},
   "source": [
    "**[Numpy](http://www.numpy.org/)** is a Python library for scientific computing. One of its most powerful features is the N-dimensional array class and the slicing mechanism to access its elements. **[Matplotlib](http://matplotlib.org/)** offers a rich API for creating high-quality scientific plots. These two are the main components of the **[SciPy](http://www.scipy.org/)** software stack for scientific computing."
   ]
  },
  {
   "cell_type": "code",
   "execution_count": 45,
   "metadata": {
    "collapsed": false
   },
   "outputs": [
    {
     "name": "stdout",
     "output_type": "stream",
     "text": [
      "[[ 0.  0.  0.  0.]\n",
      " [ 0.  0.  0.  0.]\n",
      " [ 0.  0.  0.  0.]\n",
      " [ 0.  0.  0.  0.]]\n"
     ]
    }
   ],
   "source": [
    "import numpy as np\n",
    "\n",
    "Z = np.zeros([4, 4])\n",
    "print(Z)"
   ]
  },
  {
   "cell_type": "code",
   "execution_count": 46,
   "metadata": {
    "collapsed": false
   },
   "outputs": [
    {
     "name": "stdout",
     "output_type": "stream",
     "text": [
      "[[ 1.  0.  0.]\n",
      " [ 0.  1.  0.]\n",
      " [ 0.  0.  1.]]\n"
     ]
    }
   ],
   "source": [
    "I = np.eye(3)\n",
    "print(I)"
   ]
  },
  {
   "cell_type": "code",
   "execution_count": 47,
   "metadata": {
    "collapsed": false
   },
   "outputs": [
    {
     "name": "stdout",
     "output_type": "stream",
     "text": [
      "[[1 2]\n",
      " [3 4]]\n",
      "[[1 3]\n",
      " [2 4]]\n"
     ]
    }
   ],
   "source": [
    "R = np.array([[1, 2], [3, 4]])\n",
    "\n",
    "print(R)\n",
    "print(R.T)"
   ]
  },
  {
   "cell_type": "code",
   "execution_count": 48,
   "metadata": {
    "collapsed": false
   },
   "outputs": [
    {
     "name": "stdout",
     "output_type": "stream",
     "text": [
      "[ 0.66691446  0.67111866  0.67728946  0.28402018  0.58022997]\n",
      "2.87957273324\n"
     ]
    }
   ],
   "source": [
    "v = np.random.rand(5)\n",
    "print(v)\n",
    "print(np.sum(v))"
   ]
  },
  {
   "cell_type": "markdown",
   "metadata": {},
   "source": [
    "## Basic linear algebra"
   ]
  },
  {
   "cell_type": "code",
   "execution_count": 58,
   "metadata": {
    "collapsed": false
   },
   "outputs": [
    {
     "name": "stdout",
     "output_type": "stream",
     "text": [
      "A:\n",
      "[[ 0.71803608  0.62159127  0.91165244]\n",
      " [ 0.13116198  0.55117845  0.50551511]\n",
      " [ 0.3310729   0.82409944  0.03653041]], [[ 0.59571211]\n",
      " [ 0.91035388]\n",
      " [ 0.57554161]]\n",
      "\n",
      "Inverse:\n",
      "[[ 1.57677371 -2.89768017  0.74873256]\n",
      " [-0.64656622  1.09607093  0.96804974]\n",
      " [ 0.29585783  1.53493889 -1.24976165]]\n",
      "\n",
      "b:\n",
      "[[ 0.59571211]\n",
      " [ 0.91035388]\n",
      " [ 0.57554161]]\n",
      "\n",
      "x:\n",
      "[[-1.26768447]\n",
      " [ 1.169798  ]\n",
      " [ 0.85429384]]\n",
      "\n"
     ]
    },
    {
     "data": {
      "text/plain": [
       "array([ 0.62159127,  0.55117845,  0.82409944])"
      ]
     },
     "execution_count": 58,
     "metadata": {},
     "output_type": "execute_result"
    }
   ],
   "source": [
    "import numpy.linalg as la\n",
    "\n",
    "A = np.random.rand(3,3)\n",
    "b = np.random.rand(3,1)\n",
    "\n",
    "print('A:\\n{0}, {1}\\n'.format(A, b))\n",
    "print('Inverse:\\n{0}\\n'.format(la.inv(A)))\n",
    "\n",
    "print('b:\\n{0}\\n'.format(b))\n",
    "\n",
    "# Solution to a linear system\n",
    "x = la.solve(A, b)\n",
    "print('x:\\n{0}\\n'.format(x))\n",
    "\n",
    "# Verification\n",
    "#xx = np.dot(A,x)\n",
    "#print('xx:\\n{0}\\n'.format(xx))\n",
    "A[:, 1]"
   ]
  },
  {
   "cell_type": "markdown",
   "metadata": {},
   "source": [
    "## Basic plotting with matplotlib"
   ]
  },
  {
   "cell_type": "markdown",
   "metadata": {},
   "source": [
    "Run the following line in a cell to enable showing plots in the web browser."
   ]
  },
  {
   "cell_type": "code",
   "execution_count": 50,
   "metadata": {
    "collapsed": false
   },
   "outputs": [
    {
     "name": "stdout",
     "output_type": "stream",
     "text": [
      "Populating the interactive namespace from numpy and matplotlib\n"
     ]
    },
    {
     "name": "stderr",
     "output_type": "stream",
     "text": [
      "/usr/local/lib/python3.5/dist-packages/IPython/core/magics/pylab.py:161: UserWarning: pylab import has clobbered these variables: ['add', 'f']\n",
      "`%matplotlib` prevents importing * from pylab and numpy\n",
      "  \"\\n`%matplotlib` prevents importing * from pylab and numpy\"\n"
     ]
    }
   ],
   "source": [
    "%pylab inline"
   ]
  },
  {
   "cell_type": "code",
   "execution_count": 51,
   "metadata": {
    "collapsed": false
   },
   "outputs": [],
   "source": [
    "# import matplot lib for plotting functions\n",
    "import matplotlib.pyplot as plt"
   ]
  },
  {
   "cell_type": "code",
   "execution_count": 52,
   "metadata": {
    "collapsed": false
   },
   "outputs": [
    {
     "data": {
      "image/png": "[encoded data removed]",
      "text/plain": [
       "<matplotlib.figure.Figure at 0x7ff4a08998d0>"
      ]
     },
     "metadata": {},
     "output_type": "display_data"
    }
   ],
   "source": [
    "X = np.arange(0, 2*np.pi, 0.01)\n",
    "Y = np.sin(X)\n",
    "\n",
    "plt.plot(X, Y)\n",
    "plt.show()\n"
   ]
  }
 ],
 "metadata": {
  "kernelspec": {
   "display_name": "Python 3",
   "language": "python",
   "name": "python3"
  },
  "language_info": {
   "codemirror_mode": {
    "name": "ipython",
    "version": 3
   },
   "file_extension": ".py",
   "mimetype": "text/x-python",
   "name": "python",
   "nbconvert_exporter": "python",
   "pygments_lexer": "ipython3",
   "version": "3.5.2"
  }
 },
 "nbformat": 4,
 "nbformat_minor": 0
}
